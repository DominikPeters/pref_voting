{
 "cells": [
  {
   "cell_type": "code",
   "execution_count": 1,
   "id": "64bc7052",
   "metadata": {},
   "outputs": [],
   "source": [
    "from pref_voting.profiles_with_ties import *\n",
    "from pref_voting.voting_methods import *"
   ]
  },
  {
   "cell_type": "code",
   "execution_count": 2,
   "id": "a61b892a",
   "metadata": {},
   "outputs": [],
   "source": [
    "\n",
    "prof = ProfileWithTies([{0:1, 1:2, 2:3}, {0:2, 1:1},  {2:1}])"
   ]
  },
  {
   "cell_type": "code",
   "execution_count": 3,
   "id": "d1140c7d",
   "metadata": {},
   "outputs": [
    {
     "name": "stdout",
     "output_type": "stream",
     "text": [
      "+---+---+---+\n",
      "| 1 | 1 | 1 |\n",
      "+---+---+---+\n",
      "| 0 | 1 | 2 |\n",
      "| 1 | 0 |   |\n",
      "| 2 |   |   |\n",
      "+---+---+---+\n"
     ]
    }
   ],
   "source": [
    "prof.display()"
   ]
  },
  {
   "cell_type": "code",
   "execution_count": 4,
   "id": "ab5fc941",
   "metadata": {},
   "outputs": [
    {
     "data": {
      "text/plain": [
       "{0: 2}"
      ]
     },
     "execution_count": 4,
     "metadata": {},
     "output_type": "execute_result"
    }
   ],
   "source": [
    "prof.plurality_scores(curr_cands = [0])"
   ]
  },
  {
   "cell_type": "code",
   "execution_count": 5,
   "id": "bf158a07",
   "metadata": {},
   "outputs": [
    {
     "name": "stdout",
     "output_type": "stream",
     "text": [
      "PluralityWRunoff winners are {0, 1}\n"
     ]
    }
   ],
   "source": [
    "plurality_with_runoff.display(prof)"
   ]
  },
  {
   "cell_type": "code",
   "execution_count": 6,
   "id": "c590e6ea",
   "metadata": {},
   "outputs": [
    {
     "name": "stdout",
     "output_type": "stream",
     "text": [
      "Plurality winners are {0, 1, 2}\n"
     ]
    }
   ],
   "source": [
    "plurality.display(prof)"
   ]
  },
  {
   "cell_type": "code",
   "execution_count": 10,
   "id": "54719aa1",
   "metadata": {},
   "outputs": [
    {
     "name": "stdout",
     "output_type": "stream",
     "text": [
      "[0, 1]\n",
      "[0, 1]\n",
      "[0, 1]\n",
      "[0, 1]\n"
     ]
    }
   ],
   "source": [
    "print(borda_for_profile_with_ties(prof, borda_scores=symmetric_borda_scores))\n",
    "print(borda_for_profile_with_ties(prof, borda_scores=domination_borda_scores))\n",
    "print(borda_for_profile_with_ties(prof, borda_scores=weak_domination_borda_scores))\n",
    "print(borda_for_profile_with_ties(prof, borda_scores=non_domination_borda_scores))"
   ]
  },
  {
   "cell_type": "code",
   "execution_count": null,
   "id": "b6d1728d",
   "metadata": {},
   "outputs": [],
   "source": []
  }
 ],
 "metadata": {
  "kernelspec": {
   "display_name": "py310",
   "language": "python",
   "name": "python3"
  },
  "language_info": {
   "codemirror_mode": {
    "name": "ipython",
    "version": 3
   },
   "file_extension": ".py",
   "mimetype": "text/x-python",
   "name": "python",
   "nbconvert_exporter": "python",
   "pygments_lexer": "ipython3",
   "version": "3.10.9"
  },
  "vscode": {
   "interpreter": {
    "hash": "3e0b5a01b8f727ee5e6561dee9387cd7de3c110c3a4eff66a475afe21c23d281"
   }
  }
 },
 "nbformat": 4,
 "nbformat_minor": 5
}
