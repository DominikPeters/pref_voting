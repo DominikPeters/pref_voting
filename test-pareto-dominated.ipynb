{
 "cells": [
  {
   "cell_type": "code",
   "execution_count": 4,
   "id": "64bc7052",
   "metadata": {},
   "outputs": [],
   "source": [
    "from pref_voting.profiles_with_ties import *\n",
    "from pref_voting.voting_methods import *\n",
    "from pref_voting.analysis import *\n",
    "from pref_voting.generate_profiles import *\n",
    "from pref_voting.generate_weighted_majority_graphs import *\n",
    "\n",
    "from pref_voting.utility_profiles import UtilityProfile\n",
    "\n",
    "from pref_voting.generate_utility_profiles import *\n",
    "from pref_voting.generate_utility_profiles import *\n",
    "from pref_voting.utility_methods import *\n",
    "\n",
    "from pref_voting.spatial_profiles import SpatialProfile\n",
    "from pref_voting.generate_spatial_profiles import *\n",
    "from pref_voting.utility_functions import *\n",
    "from pref_voting.probabilistic_methods import *\n",
    "from tqdm.notebook import tqdm\n",
    "import numpy as np\n",
    "import random2 as random\n",
    "import pickle"
   ]
  },
  {
   "cell_type": "code",
   "execution_count": 15,
   "id": "083610ac",
   "metadata": {},
   "outputs": [
    {
     "name": "stdout",
     "output_type": "stream",
     "text": [
      "num_cands: 4\n"
     ]
    },
    {
     "data": {
      "application/vnd.jupyter.widget-view+json": {
       "model_id": "cd42506dbabd4e5b9e377d90f053103d",
       "version_major": 2,
       "version_minor": 0
      },
      "text/plain": [
       "  0%|          | 0/100000 [00:00<?, ?it/s]"
      ]
     },
     "metadata": {},
     "output_type": "display_data"
    },
    {
     "name": "stdout",
     "output_type": "stream",
     "text": [
      "num_uniquely_weighted: 0\n"
     ]
    },
    {
     "data": {
      "application/vnd.jupyter.widget-view+json": {
       "model_id": "acab2003274b479fb3dcfddb3657925e",
       "version_major": 2,
       "version_minor": 0
      },
      "text/plain": [
       "  0%|          | 0/100000 [00:00<?, ?it/s]"
      ]
     },
     "metadata": {},
     "output_type": "display_data"
    },
    {
     "name": "stdout",
     "output_type": "stream",
     "text": [
      "num_uniquely_weighted: 56250\n"
     ]
    },
    {
     "data": {
      "application/vnd.jupyter.widget-view+json": {
       "model_id": "8a08a97940c24773aa7e65d521bbc808",
       "version_major": 2,
       "version_minor": 0
      },
      "text/plain": [
       "  0%|          | 0/100000 [00:00<?, ?it/s]"
      ]
     },
     "metadata": {},
     "output_type": "display_data"
    },
    {
     "name": "stdout",
     "output_type": "stream",
     "text": [
      "num_uniquely_weighted: 56028\n",
      "num_cands: 5\n"
     ]
    },
    {
     "data": {
      "application/vnd.jupyter.widget-view+json": {
       "model_id": "13d4bd48a8b9425195883a72d5c3b0b1",
       "version_major": 2,
       "version_minor": 0
      },
      "text/plain": [
       "  0%|          | 0/100000 [00:00<?, ?it/s]"
      ]
     },
     "metadata": {},
     "output_type": "display_data"
    },
    {
     "name": "stdout",
     "output_type": "stream",
     "text": [
      "num_uniquely_weighted: 0\n"
     ]
    },
    {
     "data": {
      "application/vnd.jupyter.widget-view+json": {
       "model_id": "c1f14b5b8e6e4bf298b2acc0ef68a306",
       "version_major": 2,
       "version_minor": 0
      },
      "text/plain": [
       "  0%|          | 0/100000 [00:00<?, ?it/s]"
      ]
     },
     "metadata": {},
     "output_type": "display_data"
    },
    {
     "name": "stdout",
     "output_type": "stream",
     "text": [
      "num_uniquely_weighted: 17373\n"
     ]
    },
    {
     "data": {
      "application/vnd.jupyter.widget-view+json": {
       "model_id": "7cd822cc81ca498e88aa4854074c6287",
       "version_major": 2,
       "version_minor": 0
      },
      "text/plain": [
       "  0%|          | 0/100000 [00:00<?, ?it/s]"
      ]
     },
     "metadata": {},
     "output_type": "display_data"
    },
    {
     "name": "stdout",
     "output_type": "stream",
     "text": [
      "num_uniquely_weighted: 17396\n",
      "num_cands: 6\n"
     ]
    },
    {
     "data": {
      "application/vnd.jupyter.widget-view+json": {
       "model_id": "bb4454308ceb4765b8083f630b79ee48",
       "version_major": 2,
       "version_minor": 0
      },
      "text/plain": [
       "  0%|          | 0/100000 [00:00<?, ?it/s]"
      ]
     },
     "metadata": {},
     "output_type": "display_data"
    },
    {
     "name": "stdout",
     "output_type": "stream",
     "text": [
      "num_uniquely_weighted: 0\n"
     ]
    },
    {
     "data": {
      "application/vnd.jupyter.widget-view+json": {
       "model_id": "ec8613e92ce94044ac93a9ed242e7495",
       "version_major": 2,
       "version_minor": 0
      },
      "text/plain": [
       "  0%|          | 0/100000 [00:00<?, ?it/s]"
      ]
     },
     "metadata": {},
     "output_type": "display_data"
    },
    {
     "name": "stdout",
     "output_type": "stream",
     "text": [
      "num_uniquely_weighted: 1647\n"
     ]
    },
    {
     "data": {
      "application/vnd.jupyter.widget-view+json": {
       "model_id": "1f858c703d834de0a3c5c4ad9e35cc1a",
       "version_major": 2,
       "version_minor": 0
      },
      "text/plain": [
       "  0%|          | 0/100000 [00:00<?, ?it/s]"
      ]
     },
     "metadata": {},
     "output_type": "display_data"
    },
    {
     "name": "stdout",
     "output_type": "stream",
     "text": [
      "num_uniquely_weighted: 1639\n",
      "num_cands: 7\n"
     ]
    },
    {
     "data": {
      "application/vnd.jupyter.widget-view+json": {
       "model_id": "9f9e285a6a914cebbb7e3a5dbaa6971c",
       "version_major": 2,
       "version_minor": 0
      },
      "text/plain": [
       "  0%|          | 0/100000 [00:00<?, ?it/s]"
      ]
     },
     "metadata": {},
     "output_type": "display_data"
    },
    {
     "name": "stdout",
     "output_type": "stream",
     "text": [
      "num_uniquely_weighted: 0\n"
     ]
    },
    {
     "data": {
      "application/vnd.jupyter.widget-view+json": {
       "model_id": "54099b52a8bf41cb8842b616d05f76f2",
       "version_major": 2,
       "version_minor": 0
      },
      "text/plain": [
       "  0%|          | 0/100000 [00:00<?, ?it/s]"
      ]
     },
     "metadata": {},
     "output_type": "display_data"
    },
    {
     "name": "stdout",
     "output_type": "stream",
     "text": [
      "num_uniquely_weighted: 24\n"
     ]
    },
    {
     "data": {
      "application/vnd.jupyter.widget-view+json": {
       "model_id": "41241df478f245e896dffbe87a17b9de",
       "version_major": 2,
       "version_minor": 0
      },
      "text/plain": [
       "  0%|          | 0/100000 [00:00<?, ?it/s]"
      ]
     },
     "metadata": {},
     "output_type": "display_data"
    },
    {
     "name": "stdout",
     "output_type": "stream",
     "text": [
      "num_uniquely_weighted: 38\n",
      "num_cands: 8\n"
     ]
    },
    {
     "data": {
      "application/vnd.jupyter.widget-view+json": {
       "model_id": "6d9ea7fcc5754c47a5efcc4628886e51",
       "version_major": 2,
       "version_minor": 0
      },
      "text/plain": [
       "  0%|          | 0/100000 [00:00<?, ?it/s]"
      ]
     },
     "metadata": {},
     "output_type": "display_data"
    },
    {
     "name": "stdout",
     "output_type": "stream",
     "text": [
      "num_uniquely_weighted: 0\n"
     ]
    },
    {
     "data": {
      "application/vnd.jupyter.widget-view+json": {
       "model_id": "a211ba8cc2264b93bb4004c14a720a7b",
       "version_major": 2,
       "version_minor": 0
      },
      "text/plain": [
       "  0%|          | 0/100000 [00:00<?, ?it/s]"
      ]
     },
     "metadata": {},
     "output_type": "display_data"
    },
    {
     "name": "stdout",
     "output_type": "stream",
     "text": [
      "num_uniquely_weighted: 0\n"
     ]
    },
    {
     "data": {
      "application/vnd.jupyter.widget-view+json": {
       "model_id": "6cc35ff9e5b6436c88e8926360304e11",
       "version_major": 2,
       "version_minor": 0
      },
      "text/plain": [
       "  0%|          | 0/100000 [00:00<?, ?it/s]"
      ]
     },
     "metadata": {},
     "output_type": "display_data"
    },
    {
     "name": "stdout",
     "output_type": "stream",
     "text": [
      "num_uniquely_weighted: 0\n",
      "num_cands: 9\n"
     ]
    },
    {
     "data": {
      "application/vnd.jupyter.widget-view+json": {
       "model_id": "e05d2f8c80da4b078725c70183d31b5e",
       "version_major": 2,
       "version_minor": 0
      },
      "text/plain": [
       "  0%|          | 0/100000 [00:00<?, ?it/s]"
      ]
     },
     "metadata": {},
     "output_type": "display_data"
    },
    {
     "name": "stdout",
     "output_type": "stream",
     "text": [
      "num_uniquely_weighted: 0\n"
     ]
    },
    {
     "data": {
      "application/vnd.jupyter.widget-view+json": {
       "model_id": "e2c9ae7f1a86451eaabddeda013b870d",
       "version_major": 2,
       "version_minor": 0
      },
      "text/plain": [
       "  0%|          | 0/100000 [00:00<?, ?it/s]"
      ]
     },
     "metadata": {},
     "output_type": "display_data"
    },
    {
     "name": "stdout",
     "output_type": "stream",
     "text": [
      "num_uniquely_weighted: 0\n"
     ]
    },
    {
     "data": {
      "application/vnd.jupyter.widget-view+json": {
       "model_id": "130e8054aa0b4a129bda965355823fac",
       "version_major": 2,
       "version_minor": 0
      },
      "text/plain": [
       "  0%|          | 0/100000 [00:00<?, ?it/s]"
      ]
     },
     "metadata": {},
     "output_type": "display_data"
    },
    {
     "name": "stdout",
     "output_type": "stream",
     "text": [
      "num_uniquely_weighted: 0\n"
     ]
    }
   ],
   "source": [
    "all_num_cands = [4, 5, 6, 7, 8, 9]\n",
    "all_num_voters = [10, 1001, 1001]\n",
    "\n",
    "num_trials = 100000\n",
    "vm = stable_voting\n",
    "\n",
    "counter_examples = []\n",
    "for num_cands in all_num_cands:\n",
    "    print(f\"num_cands: {num_cands}\")\n",
    "    for num_voters in all_num_voters:\n",
    "        found_example = False\n",
    "        num_uniquely_weighted = 0\n",
    "        for t in tqdm(range(num_trials)): \n",
    "            prof = generate_profile(num_cands, num_voters)\n",
    "            if not prof.is_uniquely_weighted():\n",
    "                continue\n",
    "            num_uniquely_weighted += 1\n",
    "            for c1 in prof.candidates: \n",
    "                for c2 in prof.candidates: \n",
    "                    if  prof.margin(c1, c2)==prof.num_voters: # c1 dominates c2\n",
    "                        new_prof, cmap = prof.remove_candidates([c2])\n",
    "                        \n",
    "                        ws = vm(prof)\n",
    "                        if ws is not None:\n",
    "                            _new_ws = vm(new_prof)\n",
    "                            if _new_ws is not None:\n",
    "                                new_ws = [cmap[w] for w in _new_ws]\n",
    "\n",
    "                                if ws != new_ws and all([w not in new_ws for w in ws]) and all([w not in ws for w in new_ws]): \n",
    "                                    counter_examples.append((prof, new_prof, cmap))\n",
    "                                    print(\"VIOLATION\")\n",
    "                                    #prof.display()\n",
    "                                    prof.display_margin_graph()\n",
    "                                    vm.display(prof)\n",
    "                                    print(f\"{c1} dominates {c2}\")\n",
    "                                    #new_prof.display(cmap=cmap)\n",
    "                                    new_prof.display_margin_graph(cmap=cmap)\n",
    "                                    vm.display(new_prof, cmap=cmap)\n",
    "                                    found_example = True\n",
    "            if found_example: \n",
    "                break\n",
    "\n",
    "        print(f\"num_uniquely_weighted: {num_uniquely_weighted}\")"
   ]
  },
  {
   "cell_type": "code",
   "execution_count": null,
   "id": "ac07d9d0",
   "metadata": {},
   "outputs": [],
   "source": []
  }
 ],
 "metadata": {
  "kernelspec": {
   "display_name": "Python 3 (ipykernel)",
   "language": "python",
   "name": "python3"
  },
  "language_info": {
   "codemirror_mode": {
    "name": "ipython",
    "version": 3
   },
   "file_extension": ".py",
   "mimetype": "text/x-python",
   "name": "python",
   "nbconvert_exporter": "python",
   "pygments_lexer": "ipython3",
   "version": "3.11.1"
  },
  "vscode": {
   "interpreter": {
    "hash": "3e0b5a01b8f727ee5e6561dee9387cd7de3c110c3a4eff66a475afe21c23d281"
   }
  }
 },
 "nbformat": 4,
 "nbformat_minor": 5
}
